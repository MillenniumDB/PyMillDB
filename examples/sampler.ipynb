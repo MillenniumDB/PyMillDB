{
 "cells": [
  {
   "cell_type": "code",
   "execution_count": 1,
   "metadata": {},
   "outputs": [],
   "source": [
    "from pymilldb import (\n",
    "    MDBClient,\n",
    "    Sampler,\n",
    ")\n"
   ]
  },
  {
   "cell_type": "code",
   "execution_count": 2,
   "metadata": {},
   "outputs": [
    {
     "name": "stdout",
     "output_type": "stream",
     "text": [
      "Graph(num_seeds=10, node_ids=[224], edge_ids=[214], edge_index=[214, 2])\n",
      "Graph(num_seeds=10, node_ids=[204], edge_ids=[194], edge_index=[194, 2])\n",
      "Graph(num_seeds=10, node_ids=[216], edge_ids=[206], edge_index=[206, 2])\n",
      "Graph(num_seeds=10, node_ids=[234], edge_ids=[224], edge_index=[224, 2])\n",
      "Graph(num_seeds=10, node_ids=[177], edge_ids=[167], edge_index=[167, 2])\n",
      "Graph(num_seeds=10, node_ids=[222], edge_ids=[212], edge_index=[212, 2])\n",
      "Graph(num_seeds=10, node_ids=[197], edge_ids=[188], edge_index=[188, 2])\n",
      "Graph(num_seeds=10, node_ids=[260], edge_ids=[250], edge_index=[250, 2])\n",
      "Graph(num_seeds=10, node_ids=[223], edge_ids=[213], edge_index=[213, 2])\n",
      "Graph(num_seeds=10, node_ids=[230], edge_ids=[220], edge_index=[220, 2])\n"
     ]
    }
   ],
   "source": [
    "with MDBClient() as client:\n",
    "    sampler = Sampler(client)\n",
    "    \n",
    "    for _ in range(10):\n",
    "        g = sampler.subgraph(10, [5, 5])\n",
    "        print(g)\n",
    "    "
   ]
  },
  {
   "cell_type": "code",
   "execution_count": 10,
   "metadata": {},
   "outputs": [
    {
     "name": "stdout",
     "output_type": "stream",
     "text": [
      "Graph(num_seeds=64, node_ids=[1167], edge_ids=[1149], edge_index=[1149, 2])\n",
      "Graph(num_seeds=65, node_ids=[1238], edge_ids=[1224], edge_index=[1224, 2])\n",
      "Graph(num_seeds=57, node_ids=[1028], edge_ids=[1012], edge_index=[1012, 2])\n",
      "Graph(num_seeds=68, node_ids=[1241], edge_ids=[1224], edge_index=[1224, 2])\n",
      "Graph(num_seeds=61, node_ids=[1174], edge_ids=[1163], edge_index=[1163, 2])\n",
      "Graph(num_seeds=68, node_ids=[1222], edge_ids=[1208], edge_index=[1208, 2])\n",
      "Graph(num_seeds=64, node_ids=[1152], edge_ids=[1136], edge_index=[1136, 2])\n",
      "Graph(num_seeds=51, node_ids=[944], edge_ids=[932], edge_index=[932, 2])\n",
      "Graph(num_seeds=52, node_ids=[948], edge_ids=[939], edge_index=[939, 2])\n",
      "Graph(num_seeds=55, node_ids=[956], edge_ids=[948], edge_index=[948, 2])\n"
     ]
    }
   ],
   "source": [
    "with MDBClient() as client:\n",
    "    sampler = Sampler(client)\n",
    "    \n",
    "    for _ in range(10):\n",
    "        g = sampler.subgraph_edge_existance(10, [5, 5])\n",
    "        print(g)"
   ]
  }
 ],
 "metadata": {
  "kernelspec": {
   "display_name": "Python 3",
   "language": "python",
   "name": "python3"
  },
  "language_info": {
   "codemirror_mode": {
    "name": "ipython",
    "version": 3
   },
   "file_extension": ".py",
   "mimetype": "text/x-python",
   "name": "python",
   "nbconvert_exporter": "python",
   "pygments_lexer": "ipython3",
   "version": "3.10.6"
  },
  "orig_nbformat": 4
 },
 "nbformat": 4,
 "nbformat_minor": 2
}
