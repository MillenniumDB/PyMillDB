{
 "cells": [
  {
   "cell_type": "code",
   "execution_count": 18,
   "metadata": {},
   "outputs": [],
   "source": [
    "from pymilldb import GraphBuilder, DataNode, DataEdge"
   ]
  },
  {
   "attachments": {},
   "cell_type": "markdown",
   "metadata": {},
   "source": [
    "First, we create our graph with the GraphBuilder class."
   ]
  },
  {
   "cell_type": "code",
   "execution_count": 19,
   "metadata": {},
   "outputs": [],
   "source": [
    "gb = GraphBuilder()\n",
    "\n",
    "# Add nodes\n",
    "gb.add_node(DataNode(name=\"Alice\", labels=[\"person\"], properties={\"age\": 25, \"gender\": \"F\"}))\n",
    "gb.add_node(DataNode(name=\"Bob\", labels=[\"person\"], properties={\"age\": 30, \"gender\": \"M\"}))\n",
    "gb.add_node(DataNode(name=\"Eve\", labels=[\"person\"], properties={\"age\": 19, \"gender\": \"F\"}))\n",
    "\n",
    "# Add edges\n",
    "gb.add_edge(DataEdge(source=\"Alice\", target=\"Bob\", edge_type=\"follows\"))\n",
    "gb.add_edge(DataEdge(source=\"Alice\", target=\"Eve\", edge_type=\"follows\"))\n",
    "gb.add_edge(DataEdge(source=\"Bob\", target=\"Bob\", edge_type=\"follows\"))\n",
    "gb.add_edge(DataEdge(source=\"Bob\", target=\"Eve\", edge_type=\"follows\"))"
   ]
  },
  {
   "attachments": {},
   "cell_type": "markdown",
   "metadata": {},
   "source": [
    "Then, we dump the graph to a file into the MillenniumDB's Quad Model format"
   ]
  },
  {
   "cell_type": "code",
   "execution_count": 20,
   "metadata": {},
   "outputs": [],
   "source": [
    "dump_path = \"example_dump.milldb\"\n",
    "gb.dump_milldb(dump_path)"
   ]
  },
  {
   "attachments": {},
   "cell_type": "markdown",
   "metadata": {},
   "source": [
    "Finally, we can create the MillenniumDB database from the graph dump with the `create_db` binary. Its arguments are the graph dump and the destination directory"
   ]
  },
  {
   "cell_type": "code",
   "execution_count": 21,
   "metadata": {},
   "outputs": [],
   "source": [
    "create_db_bin_path = \"/home/zeus/MDB/MillenniumDB-Dev/build/Release/bin/create_db\"\n",
    "db_dest_dir = \"example_dump\""
   ]
  },
  {
   "cell_type": "code",
   "execution_count": 22,
   "metadata": {},
   "outputs": [
    {
     "name": "stdout",
     "output_type": "stream",
     "text": [
      "Creating new database\n",
      "  input file:  example_dump.milldb\n",
      "  db folder:   example_dump\n",
      "Parser duration: 0.253153 ms\n",
      "Write strings and strings hash duration: 26.1289 ms\n",
      "Write edge table and nodes index: 0.181725 ms\n",
      "Write labels index: 0.116569 ms\n",
      "Write properties index: 0.148106 ms\n",
      "Write quad index: 0.131784 ms\n",
      "Write special cases index: 0.235656 ms\n",
      "Total duration: 27.1959 ms\n",
      "-------------------------------------\n",
      "Catalog:\n",
      "  identifiable nodes count: 3\n",
      "  anonymous nodes count:    0\n",
      "  connections count:        4\n",
      "  label count:              3\n",
      "  properties count:         6\n",
      "  distinct labels:          1\n",
      "  distinct from's:          2\n",
      "  distinct to's:            2\n",
      "  distinct type's:          1\n",
      "  distinct keys:            2\n",
      "  equal_from_to_count:      1\n",
      "  equal_from_type_count:    0\n",
      "  equal_to_type_count:      0\n",
      "  equal_from_to_type_count: 0\n",
      "-------------------------------------\n"
     ]
    }
   ],
   "source": [
    "!$create_db_bin_path $dump_path $db_dest_dir"
   ]
  }
 ],
 "metadata": {
  "kernelspec": {
   "display_name": "Python 3",
   "language": "python",
   "name": "python3"
  },
  "language_info": {
   "codemirror_mode": {
    "name": "ipython",
    "version": 3
   },
   "file_extension": ".py",
   "mimetype": "text/x-python",
   "name": "python",
   "nbconvert_exporter": "python",
   "pygments_lexer": "ipython3",
   "version": "3.10.6"
  },
  "orig_nbformat": 4
 },
 "nbformat": 4,
 "nbformat_minor": 2
}
