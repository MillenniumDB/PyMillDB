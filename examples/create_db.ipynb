{
 "cells": [
  {
   "cell_type": "code",
   "execution_count": 1,
   "metadata": {},
   "outputs": [],
   "source": [
    "from pymilldb import GraphBuilder, BuilderNode, BuilderEdge"
   ]
  },
  {
   "attachments": {},
   "cell_type": "markdown",
   "metadata": {},
   "source": [
    "First, we create our graph with the GraphBuilder class."
   ]
  },
  {
   "cell_type": "code",
   "execution_count": 2,
   "metadata": {},
   "outputs": [],
   "source": [
    "gb = GraphBuilder()\n",
    "\n",
    "# Add nodes\n",
    "gb.add_node(\n",
    "    BuilderNode(name=\"Alice\", labels=[\"person\"], properties={\"age\": 25, \"gender\": \"F\"})\n",
    ")\n",
    "gb.add_node(\n",
    "    BuilderNode(name=\"Bob\", labels=[\"person\"], properties={\"age\": 30, \"gender\": \"M\"})\n",
    ")\n",
    "gb.add_node(\n",
    "    BuilderNode(name=\"Eve\", labels=[\"person\"], properties={\"age\": 19, \"gender\": \"F\"})\n",
    ")\n",
    "\n",
    "# Add edges\n",
    "gb.add_edge(\n",
    "    BuilderEdge(\n",
    "        source=\"Alice\", target=\"Bob\", edge_type=\"follows\", properties={\"since\": 2013}\n",
    "    ),\n",
    ")\n",
    "gb.add_edge(\n",
    "    BuilderEdge(\n",
    "        source=\"Alice\", target=\"Eve\", edge_type=\"follows\", properties={\"since\": 2017}\n",
    "    ),\n",
    ")\n",
    "gb.add_edge(\n",
    "    BuilderEdge(\n",
    "        source=\"Bob\", target=\"Bob\", edge_type=\"follows\", properties={\"since\": 2013}\n",
    "    )\n",
    ")\n",
    "gb.add_edge(\n",
    "    BuilderEdge(\n",
    "        source=\"Bob\", target=\"Eve\", edge_type=\"follows\", properties={\"since\": 2020}\n",
    "    )\n",
    ")\n"
   ]
  },
  {
   "attachments": {},
   "cell_type": "markdown",
   "metadata": {},
   "source": [
    "Then, we dump the graph to a file into the MillenniumDB's Quad Model format"
   ]
  },
  {
   "cell_type": "code",
   "execution_count": 3,
   "metadata": {},
   "outputs": [],
   "source": [
    "dump_path = \"example_dump.milldb\"\n",
    "gb.dump_milldb(dump_path)"
   ]
  },
  {
   "attachments": {},
   "cell_type": "markdown",
   "metadata": {},
   "source": [
    "Finally, we can create the MillenniumDB database from the graph dump with the `create_db` binary. Its arguments are the graph dump and the destination directory"
   ]
  },
  {
   "cell_type": "code",
   "execution_count": 4,
   "metadata": {},
   "outputs": [],
   "source": [
    "create_db_bin_path = \"/home/zeus/MDB/MillenniumDB-Dev/build/Release/bin/create_db\"\n",
    "db_dest_dir = \"example_dump\""
   ]
  },
  {
   "cell_type": "code",
   "execution_count": 5,
   "metadata": {},
   "outputs": [
    {
     "name": "stdout",
     "output_type": "stream",
     "text": [
      "Creating new database\n",
      "  input file:  example_dump.milldb\n",
      "  db folder:   example_dump\n",
      "Parser duration: 0.268713 ms\n",
      "Write strings and strings hash duration: 27.3898 ms\n",
      "Write edge table and nodes index: 0.144665 ms\n",
      "Write labels index: 0.069299 ms\n",
      "Write properties index: 0.068508 ms\n",
      "Write quad index: 0.109797 ms\n",
      "Write special cases index: 0.217168 ms\n",
      "Total duration: 28.2679 ms\n",
      "-------------------------------------\n",
      "Catalog:\n",
      "  identifiable nodes count: 3\n",
      "  anonymous nodes count:    0\n",
      "  connections count:        4\n",
      "  label count:              3\n",
      "  properties count:         10\n",
      "  distinct labels:          1\n",
      "  distinct from's:          2\n",
      "  distinct to's:            2\n",
      "  distinct type's:          1\n",
      "  distinct keys:            3\n",
      "  equal_from_to_count:      1\n",
      "  equal_from_type_count:    0\n",
      "  equal_to_type_count:      0\n",
      "  equal_from_to_type_count: 0\n",
      "-------------------------------------\n"
     ]
    }
   ],
   "source": [
    "!$create_db_bin_path $dump_path $db_dest_dir"
   ]
  }
 ],
 "metadata": {
  "kernelspec": {
   "display_name": "Python 3",
   "language": "python",
   "name": "python3"
  },
  "language_info": {
   "codemirror_mode": {
    "name": "ipython",
    "version": 3
   },
   "file_extension": ".py",
   "mimetype": "text/x-python",
   "name": "python",
   "nbconvert_exporter": "python",
   "pygments_lexer": "ipython3",
   "version": "3.10.6"
  },
  "orig_nbformat": 4
 },
 "nbformat": 4,
 "nbformat_minor": 2
}
