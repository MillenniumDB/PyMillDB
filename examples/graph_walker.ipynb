{
 "cells": [
  {
   "cell_type": "code",
   "execution_count": 127,
   "metadata": {},
   "outputs": [],
   "source": [
    "from pymilldb import GraphWalker, MDBClient, Sampler"
   ]
  },
  {
   "cell_type": "code",
   "execution_count": 128,
   "metadata": {},
   "outputs": [],
   "source": [
    "client = MDBClient()\n",
    "s = Sampler(client)\n",
    "gw = GraphWalker(client)"
   ]
  },
  {
   "cell_type": "code",
   "execution_count": 129,
   "metadata": {},
   "outputs": [
    {
     "name": "stdout",
     "output_type": "stream",
     "text": [
      "I will use the node id: \"2328705391622959104\"\n"
     ]
    }
   ],
   "source": [
    "# Make a sample\n",
    "g = s.subgraph(10, [5, 5])\n",
    "# Extract an arbitrary node for exploration\n",
    "node_id = g.node_ids[0]\n",
    "print(f\"I will use the node id: \\\"{node_id}\\\"\")\n"
   ]
  },
  {
   "cell_type": "code",
   "execution_count": 130,
   "metadata": {},
   "outputs": [
    {
     "name": "stdout",
     "output_type": "stream",
     "text": [
      "Node:\n",
      "WalkerNode(node_id=2328705391622959104, name=Q97690, num_labels=2, num_properties=3)\n",
      "Labels:\n",
      "['arisen', 'senatorial']\n",
      "Properties:\n",
      "{'monosyllable': 7546.28076171875, 'pleasantry': 5804.23095703125, 'rubberized': 1730}\n"
     ]
    }
   ],
   "source": [
    "node = gw.get_node(node_id)\n",
    "print(\"Node:\")\n",
    "print(node)\n",
    "print(\"Labels:\")\n",
    "print(node.labels)\n",
    "print(\"Properties:\")\n",
    "print(node.properties)\n",
    "    "
   ]
  },
  {
   "cell_type": "code",
   "execution_count": 131,
   "metadata": {},
   "outputs": [
    {
     "name": "stdout",
     "output_type": "stream",
     "text": [
      "Outgoing edges:\n",
      "  ->2328696565465035008 :buttocks {'Mithra': 8458, 'gauntness': 2347}\n",
      "  ->2328702093121238784 :immigrated {'ode': True, 'burrowed': 1800.509033203125, 'submergence': 1984.509521484375}\n",
      "Incoming edges:\n",
      "  <-2328700980691415296 :arisen {'grey': 'Troys', 'policy': 'impairment', 'jiujitsu': 4926, 'scientists': 5640}\n",
      "  <-2328702093054456832 :daubed {'anxiously': 'wreath', 'vagrancys': 432, 'aftermath': 'outdoorss'}\n",
      "  <-2328705361574835200 :jaded {'racisms': 7671, 'sarong': 6811, 'hampered': 'coronet'}\n",
      "  <-2328704270653076224 :movers {'carpels': True, 'cortege': 7145.32666015625, 'gayness': 5296, 'trickerys': 2071.525390625, 'prohibitions': True}\n",
      "  <-2328699885373764608 :shlep {'deicers': True, 'douched': False, 'during': True, 'brooding': 'shifty'}\n",
      "  <-2328700963561682432 :hourglasss {'Arthur': 'Kristines', 'thousandths': 8442.953125, 'trifecta': 941.1663208007812, 'inamoratas': False}\n",
      "  <-2328696574071551744 :complexion {'Roche': False, 'don': 'smoothies', 'gushier': 3158, 'xenons': True, 'confounds': 'payable', 'juicinesss': 2487.49658203125}\n"
     ]
    }
   ],
   "source": [
    "edges_out = gw.get_edges(node_id, \"outgoing\")\n",
    "print(\"Outgoing edges:\")\n",
    "for edge in edges_out:\n",
    "    print(f\"  ->{edge.target} :{edge.edge_type} {edge.properties}\")\n",
    "edges_in = gw.get_edges(node_id, \"incoming\")\n",
    "print(\"Incoming edges:\")\n",
    "for edge in edges_in:\n",
    "    print(f\"  <-{edge.source} :{edge.edge_type} {edge.properties}\")"
   ]
  },
  {
   "cell_type": "code",
   "execution_count": 132,
   "metadata": {},
   "outputs": [
    {
     "name": "stdout",
     "output_type": "stream",
     "text": [
      "Found 1973 node_ids with label \"arisen\"\n",
      "A few of them:\n",
      "  node_id=2328696565363978752\n",
      "  node_id=2328696565364111104\n",
      "  node_id=2328696565364240384\n",
      "  node_id=2328696565364307456\n",
      "  node_id=2328696565377531904\n"
     ]
    }
   ],
   "source": [
    "node_label = node.labels[0]\n",
    "node_ids_with_label = gw.get_node_ids_by_label(label=node_label)\n",
    "print(f\"Found {len(node_ids_with_label)} node_ids with label \\\"{node_label}\\\"\")\n",
    "print(\"A few of them:\")\n",
    "for i in range(min(5, len(node_ids_with_label))):\n",
    "    print(f\"  node_id={node_ids_with_label[i]}\")"
   ]
  },
  {
   "cell_type": "code",
   "execution_count": 133,
   "metadata": {},
   "outputs": [
    {
     "name": "stdout",
     "output_type": "stream",
     "text": [
      "Found 4821 edge_ids with type \"buttocks\"\n",
      "A few of them:\n",
      "  edge_id=9223372036855016781\n",
      "  edge_id=9223372036855180955\n",
      "  edge_id=9223372036854787005\n",
      "  edge_id=9223372036855037123\n",
      "  edge_id=9223372036855251952\n",
      "Found 1 edge_ids with type \"buttocks\" outgoing from \"2328705391622959104\"\n",
      "A few of them:\n",
      "  edge_id=9223372036855269909\n",
      "Found 2 edge_ids with type \"buttocks\" incoming from \"2328696565465035008\"\n",
      "A few of them:\n",
      "  edge_id=9223372036855183349\n",
      "  edge_id=9223372036855269909\n"
     ]
    }
   ],
   "source": [
    "edge_type = edges_out[0].edge_type\n",
    "edge_ids_with_type = gw.get_edge_ids_by_type(edge_type)\n",
    "print(f'Found {len(edge_ids_with_type)} edge_ids with type \"{edge_type}\"')\n",
    "print(\"A few of them:\")\n",
    "for i in range(min(5, len(edge_ids_with_type))):\n",
    "    print(f\"  edge_id={edge_ids_with_type[i]}\")\n",
    "\n",
    "source_id = edges_out[0].source\n",
    "edge_ids_with_type_and_source = gw.get_edge_ids_by_type(edge_type=edge_type, node_id=source_id, direction=\"outgoing\")\n",
    "print(f'Found {len(edge_ids_with_type_and_source)} edge_ids with type \"{edge_type}\" outgoing from \"{source_id}\"')\n",
    "print(\"A few of them:\")\n",
    "for i in range(min(5, len(edge_ids_with_type_and_source))):\n",
    "    print(f\"  edge_id={edge_ids_with_type_and_source[i]}\")\n",
    "\n",
    "target_id = edges_out[0].target\n",
    "edge_ids_with_type_and_target = gw.get_edge_ids_by_type(edge_type=edge_type, node_id=target_id, direction=\"incoming\")\n",
    "print(f'Found {len(edge_ids_with_type_and_target)} edge_ids with type \"{edge_type}\" incoming from \"{target_id}\"')\n",
    "print(\"A few of them:\")\n",
    "for i in range(min(5, len(edge_ids_with_type_and_target))):\n",
    "    print(f\"  edge_id={edge_ids_with_type_and_target[i]}\")\n"
   ]
  },
  {
   "cell_type": "code",
   "execution_count": 134,
   "metadata": {},
   "outputs": [],
   "source": [
    "client.close()"
   ]
  }
 ],
 "metadata": {
  "kernelspec": {
   "display_name": "Python 3",
   "language": "python",
   "name": "python3"
  },
  "language_info": {
   "codemirror_mode": {
    "name": "ipython",
    "version": 3
   },
   "file_extension": ".py",
   "mimetype": "text/x-python",
   "name": "python",
   "nbconvert_exporter": "python",
   "pygments_lexer": "ipython3",
   "version": "3.10.6"
  },
  "orig_nbformat": 4
 },
 "nbformat": 4,
 "nbformat_minor": 2
}
