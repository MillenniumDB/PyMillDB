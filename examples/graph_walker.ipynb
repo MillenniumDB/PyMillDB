{
 "cells": [
  {
   "cell_type": "code",
   "execution_count": 30,
   "metadata": {},
   "outputs": [],
   "source": [
    "from pymilldb import GraphWalker, MDBClient, Sampler"
   ]
  },
  {
   "cell_type": "code",
   "execution_count": 31,
   "metadata": {},
   "outputs": [],
   "source": [
    "client = MDBClient()\n",
    "s = Sampler(client)\n",
    "gw = GraphWalker(client)"
   ]
  },
  {
   "cell_type": "code",
   "execution_count": 32,
   "metadata": {},
   "outputs": [
    {
     "name": "stdout",
     "output_type": "stream",
     "text": [
      "I will use the node id: \"2328697699386406400\"\n"
     ]
    }
   ],
   "source": [
    "# Make a sample\n",
    "g = s.subgraph(10, [5, 5])\n",
    "# Extract an arbitrary node for exploration\n",
    "node_id = g.node_ids[0]\n",
    "print(f\"I will use the node id: \\\"{node_id}\\\"\")\n"
   ]
  },
  {
   "cell_type": "code",
   "execution_count": 33,
   "metadata": {},
   "outputs": [
    {
     "name": "stdout",
     "output_type": "stream",
     "text": [
      "Node:\n",
      "WalkerNode(node_id=2328697699386406400, name=Q28926, num_labels=3, num_properties=5)\n",
      "Labels:\n",
      "['buns', 'guava', 'soup']\n",
      "Properties:\n",
      "{'Tunney': False, 'antipodess': 8799.3271484375, 'snowplowing': 'stickups', 'departmentalizing': 8259.69921875, 'submergence': 479}\n"
     ]
    }
   ],
   "source": [
    "node = gw.get_node(node_id)\n",
    "print(\"Node:\")\n",
    "print(node)\n",
    "print(\"Labels:\")\n",
    "print(node.labels)\n",
    "print(\"Properties:\")\n",
    "print(node.properties)\n",
    "    "
   ]
  },
  {
   "cell_type": "code",
   "execution_count": 34,
   "metadata": {},
   "outputs": [
    {
     "name": "stdout",
     "output_type": "stream",
     "text": [
      "Outgoing edges:\n",
      "  ->2328697677811036416 :tentacles {'kabob': True}\n",
      "  ->2328698773095055360 :orbital {'passing': 182.10508728027344, 'emblazoning': 6269, 'penguins': 'Asmara'}\n",
      "  ->2328699876884428544 :extrication {'whereon': True, 'jiujitsu': 'scanners'}\n",
      "  ->2328699876884558080 :uniforms {'hungers': 9209.4384765625, 'persona': False, 'parallelogram': 9294.974609375}\n",
      "  ->2328699885441069312 :ghostwritten {'prayer': 4890, 'hampered': False}\n",
      "  ->2328702101727739904 :transformation {'cloudier': 'debacles', 'pleasantry': True, 'victimized': 2692}\n",
      "Incoming edges:\n",
      "  <-2328698803059110144 :raccoons {'ranched': 6923.93310546875, 'embryonic': 'thundershowers', 'Midwests': 8196, 'correctnesss': 6617, 'Davidson': 6676.39697265625, 'Tippecanoe': 'framework'}\n",
      "  <-2328704279125766912 :infrareds {'disjointedly': 1743.763916015625, 'practicable': 7463, 'hampered': 7928, 'juxtaposes': 3367, 'Zworykins': 7019, 'Rosicrucian': 6589.841796875}\n",
      "  <-2328705365903161344 :ghostwritten {'barricades': 4384.06884765625, 'parliamentarians': 6381.96044921875}\n"
     ]
    }
   ],
   "source": [
    "edges_out = gw.get_edges(node_id, \"outgoing\")\n",
    "print(\"Outgoing edges:\")\n",
    "for edge in edges_out:\n",
    "    print(f\"  ->{edge.target} :{edge.edge_type} {edge.properties}\")\n",
    "edges_in = gw.get_edges(node_id, \"incoming\")\n",
    "print(\"Incoming edges:\")\n",
    "for edge in edges_in:\n",
    "    print(f\"  <-{edge.source} :{edge.edge_type} {edge.properties}\")"
   ]
  },
  {
   "cell_type": "code",
   "execution_count": 35,
   "metadata": {},
   "outputs": [],
   "source": [
    "client.close()"
   ]
  }
 ],
 "metadata": {
  "kernelspec": {
   "display_name": "Python 3",
   "language": "python",
   "name": "python3"
  },
  "language_info": {
   "codemirror_mode": {
    "name": "ipython",
    "version": 3
   },
   "file_extension": ".py",
   "mimetype": "text/x-python",
   "name": "python",
   "nbconvert_exporter": "python",
   "pygments_lexer": "ipython3",
   "version": "3.10.6"
  },
  "orig_nbformat": 4
 },
 "nbformat": 4,
 "nbformat_minor": 2
}
