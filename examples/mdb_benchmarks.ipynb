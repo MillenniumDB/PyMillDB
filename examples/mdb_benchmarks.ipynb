{
 "cells": [
  {
   "cell_type": "markdown",
   "id": "8da03266",
   "metadata": {},
   "source": [
    "# MillenniumDB\n",
    "\n",
    "It is assumed that the `server_pymdb` executable is running at `localhost:8080`."
   ]
  },
  {
   "cell_type": "code",
   "execution_count": 1,
   "id": "a0b7aa55",
   "metadata": {},
   "outputs": [],
   "source": [
    "import sys\n",
    "import time\n",
    "import numpy as np\n",
    "import os\n",
    "\n",
    "# Necessary to import from sibling directory\n",
    "sys.path.append(\"..\")\n",
    "\n",
    "from pymdb import (\n",
    "    MDBClient,\n",
    "    TrainGraphLoader,\n",
    "    EvalGraphLoader,\n",
    "    SamplingGraphLoader,\n",
    "    Sampler,\n",
    ")"
   ]
  },
  {
   "cell_type": "code",
   "execution_count": 2,
   "id": "4b76cd97",
   "metadata": {},
   "outputs": [],
   "source": [
    "num_nodes = 364_253_648\n",
    "num_edges = 1_257_169_959"
   ]
  },
  {
   "cell_type": "markdown",
   "id": "daca4790",
   "metadata": {},
   "source": [
    "## Training/Sampling"
   ]
  },
  {
   "cell_type": "code",
   "execution_count": null,
   "id": "5822b1af",
   "metadata": {
    "scrolled": false
   },
   "outputs": [
    {
     "name": "stdout",
     "output_type": "stream",
     "text": [
      "Running for epoch 1/100...\n",
      "Running for epoch 2/100...\n",
      "Running for epoch 3/100...\n",
      "Running for epoch 4/100...\n",
      "Running for epoch 5/100...\n",
      "Running for epoch 6/100...\n",
      "Running for epoch 7/100...\n",
      "Running for epoch 8/100...\n",
      "Running for epoch 9/100...\n",
      "Running for epoch 10/100...\n",
      "Running for epoch 11/100...\n",
      "Running for epoch 12/100...\n",
      "Running for epoch 13/100...\n",
      "Running for epoch 14/100...\n",
      "Running for epoch 15/100...\n",
      "Running for epoch 16/100...\n",
      "Running for epoch 17/100...\n",
      "Running for epoch 18/100...\n",
      "Running for epoch 19/100...\n",
      "Running for epoch 20/100...\n",
      "Running for epoch 21/100...\n",
      "Running for epoch 22/100...\n",
      "Running for epoch 23/100...\n",
      "Running for epoch 24/100...\n",
      "Running for epoch 25/100...\n",
      "Running for epoch 26/100...\n",
      "Running for epoch 27/100...\n",
      "Running for epoch 28/100...\n",
      "Running for epoch 29/100...\n",
      "Running for epoch 30/100...\n",
      "Running for epoch 31/100...\n",
      "Running for epoch 32/100...\n",
      "Running for epoch 33/100...\n",
      "Running for epoch 34/100...\n",
      "Running for epoch 35/100...\n",
      "Running for epoch 36/100...\n",
      "Running for epoch 37/100...\n",
      "Running for epoch 38/100...\n",
      "Running for epoch 39/100...\n",
      "Running for epoch 40/100...\n",
      "Running for epoch 41/100...\n"
     ]
    }
   ],
   "source": [
    "epochs = 100\n",
    "batch_size = 1000\n",
    "num_seeds = 100\n",
    "\n",
    "time_epoch_train = list()\n",
    "\n",
    "with MDBClient(host=\"localhost\", port=8080) as client:\n",
    "    for epoch in range(epochs):\n",
    "        print(f\"Running for epoch {epoch+1}/{epochs}...\")\n",
    "        t0 = time.perf_counter_ns()\n",
    "        \n",
    "        sgl = SamplingGraphLoader(\n",
    "            client=client,\n",
    "            batch_size=batch_size,\n",
    "            num_neighbors=[5, 5],\n",
    "            num_seeds=num_seeds,\n",
    "        )\n",
    "\n",
    "        for graph in sgl:\n",
    "            pass\n",
    "        \n",
    "        tf = time.perf_counter_ns()\n",
    "        time_epoch_train.append(tf - t0)"
   ]
  },
  {
   "cell_type": "code",
   "execution_count": null,
   "id": "bb5f981e",
   "metadata": {},
   "outputs": [],
   "source": [
    "print(f\"epochs               : {epochs}\")\n",
    "print(f\"batch_size           : {batch_size}\")\n",
    "print(f\"num_seeds            : {num_seeds}\")\n",
    "print(f\"AVG time_epoch_train : {np.mean(time_epoch_train)/1e9}s\")\n",
    "print(f\"STD time_epoch_train : {np.std(time_epoch_train)/1e9}s\")"
   ]
  }
 ],
 "metadata": {
  "kernelspec": {
   "display_name": "Python 3 (ipykernel)",
   "language": "python",
   "name": "python3"
  },
  "language_info": {
   "codemirror_mode": {
    "name": "ipython",
    "version": 3
   },
   "file_extension": ".py",
   "mimetype": "text/x-python",
   "name": "python",
   "nbconvert_exporter": "python",
   "pygments_lexer": "ipython3",
   "version": "3.9.2"
  }
 },
 "nbformat": 4,
 "nbformat_minor": 5
}
