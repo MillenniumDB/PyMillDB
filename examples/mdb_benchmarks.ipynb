{
 "cells": [
  {
   "cell_type": "markdown",
   "id": "8da03266",
   "metadata": {},
   "source": [
    "# MillenniumDB\n",
    "\n",
    "It is assumed that the `server_pymdb` executable is running at `localhost:8080`."
   ]
  },
  {
   "cell_type": "code",
   "execution_count": 1,
   "id": "a0b7aa55",
   "metadata": {},
   "outputs": [],
   "source": [
    "import sys\n",
    "import time\n",
    "import numpy as np\n",
    "import os\n",
    "\n",
    "# Necessary to import from sibling directory\n",
    "sys.path.append(\"..\")\n",
    "\n",
    "from pymdb import (\n",
    "    MDBClient,\n",
    "    TrainGraphLoader,\n",
    "    EvalGraphLoader,\n",
    "    SamplingGraphLoader,\n",
    "    Sampler,\n",
    ")"
   ]
  },
  {
   "cell_type": "code",
   "execution_count": 2,
   "id": "4b76cd97",
   "metadata": {},
   "outputs": [],
   "source": [
    "num_nodes = 364_253_648\n",
    "num_edges = 1_257_169_959"
   ]
  },
  {
   "cell_type": "markdown",
   "id": "daca4790",
   "metadata": {},
   "source": [
    "## Training/Sampling"
   ]
  },
  {
   "cell_type": "code",
   "execution_count": 6,
   "id": "5822b1af",
   "metadata": {
    "scrolled": false
   },
   "outputs": [
    {
     "name": "stdout",
     "output_type": "stream",
     "text": [
      "Running with node_feature=\"\"\n",
      "  Running for epoch 1/10...\n",
      "  Running for epoch 2/10...\n",
      "  Running for epoch 3/10...\n",
      "  Running for epoch 4/10...\n",
      "  Running for epoch 5/10...\n",
      "  Running for epoch 6/10...\n",
      "  Running for epoch 7/10...\n",
      "  Running for epoch 8/10...\n",
      "  Running for epoch 9/10...\n",
      "  Running for epoch 10/10...\n",
      "Running with node_feature=\"feat\"\n",
      "  Running for epoch 1/10...\n",
      "  Running for epoch 2/10...\n",
      "  Running for epoch 3/10...\n",
      "  Running for epoch 4/10...\n",
      "  Running for epoch 5/10...\n",
      "  Running for epoch 6/10...\n",
      "  Running for epoch 7/10...\n",
      "  Running for epoch 8/10...\n",
      "  Running for epoch 9/10...\n",
      "  Running for epoch 10/10...\n"
     ]
    }
   ],
   "source": [
    "epochs = 10\n",
    "batch_size = 256\n",
    "num_seeds = 64\n",
    "\n",
    "time_epoch = dict()\n",
    "\n",
    "with MDBClient(host=\"localhost\", port=8080) as client:\n",
    "    for node_feature_prop in [\"\", \"feat\"]:\n",
    "        print(f\"Running with node_feature=\\\"{node_feature_prop}\\\"\")\n",
    "        time_epoch[node_feature_prop] = list()\n",
    "        for epoch in range(epochs):\n",
    "            print(f\"  Running for epoch {epoch+1}/{epochs}...\")\n",
    "            t0 = time.perf_counter_ns()\n",
    "        \n",
    "            sgl = SamplingGraphLoader(\n",
    "                client=client,\n",
    "                batch_size=batch_size,\n",
    "                num_neighbors=[5, 5],\n",
    "                num_seeds=num_seeds,\n",
    "                node_feature_prop=node_feature_prop\n",
    "            )\n",
    "\n",
    "            for graph in sgl:\n",
    "                pass\n",
    "        \n",
    "            tf = time.perf_counter_ns()\n",
    "            time_epoch[node_feature_prop].append(tf - t0)"
   ]
  },
  {
   "cell_type": "code",
   "execution_count": 7,
   "id": "bb5f981e",
   "metadata": {},
   "outputs": [
    {
     "name": "stdout",
     "output_type": "stream",
     "text": [
      "epochs               : 10\n",
      "batch_size           : 256\n",
      "num_seeds            : 64\n",
      "--------------------------------------------------\n",
      "node_feature_prop : \"\"\n",
      "  AVG time_epoch       : 3.0365345837s\n",
      "  STD time_epoch_train : 0.22239113016122516s\n",
      "node_feature_prop : \"feat\"\n",
      "  AVG time_epoch       : 5.0646132509s\n",
      "  STD time_epoch_train : 0.5755795186531782s\n"
     ]
    }
   ],
   "source": [
    "print(f\"epochs               : {epochs}\")\n",
    "print(f\"batch_size           : {batch_size}\")\n",
    "print(f\"num_seeds            : {num_seeds}\")\n",
    "print(\"-\"*50)\n",
    "for k, v in time_epoch.items():\n",
    "    print(f\"node_feature_prop : \\\"{k}\\\"\")\n",
    "    print(f\"  AVG time_epoch       : {np.mean(v)/1e9}s\")\n",
    "    print(f\"  STD time_epoch_train : {np.std(v)/1e9}s\")"
   ]
  }
 ],
 "metadata": {
  "kernelspec": {
   "display_name": "Python 3 (ipykernel)",
   "language": "python",
   "name": "python3"
  },
  "language_info": {
   "codemirror_mode": {
    "name": "ipython",
    "version": 3
   },
   "file_extension": ".py",
   "mimetype": "text/x-python",
   "name": "python",
   "nbconvert_exporter": "python",
   "pygments_lexer": "ipython3",
   "version": "3.9.2"
  }
 },
 "nbformat": 4,
 "nbformat_minor": 5
}
