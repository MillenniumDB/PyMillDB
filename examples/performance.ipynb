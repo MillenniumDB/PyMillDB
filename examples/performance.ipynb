{
 "cells": [
  {
   "attachments": {},
   "cell_type": "markdown",
   "metadata": {},
   "source": [
    "# MillenniumAI performance comparison"
   ]
  },
  {
   "cell_type": "code",
   "execution_count": 4,
   "metadata": {},
   "outputs": [],
   "source": [
    "# Path to MillenniumDB executables\n",
    "SERVER_PYMDB_PATH = \"/home/zeus/MDB/MillenniumDB-Dev/build/Release/bin/server_pymdb\"\n",
    "CREATE_DB_PATH = \"/home/zeus/MDB/MillenniumDB-Dev/build/Release/bin/create_db\"\n",
    "\n",
    "# Port to run MillenniumDB server on\n",
    "SERVER_PORT = 8080"
   ]
  },
  {
   "cell_type": "code",
   "execution_count": 11,
   "metadata": {},
   "outputs": [],
   "source": [
    "import sys\n",
    "import networkx as nx\n",
    "import os\n",
    "from torch_geometric.data import Data\n",
    "from torch_geometric.utils import from_networkx\n",
    "from torch_geometric.loader import NeighborLoader\n",
    "import torch\n",
    "import subprocess\n",
    "from typing import Tuple, List, Dict\n",
    "import socket\n",
    "import time\n",
    "\n",
    "# Necessary to import from sibling directory\n",
    "sys.path.append(\"..\")\n",
    "\n",
    "\n",
    "from pymdb import (\n",
    "    MDBClient,\n",
    "    TrainGraphLoader,\n",
    "    EvalGraphLoader,\n",
    "    SamplingGraphLoader,\n",
    "    Sampler,\n",
    ")\n"
   ]
  },
  {
   "cell_type": "code",
   "execution_count": 6,
   "metadata": {},
   "outputs": [],
   "source": [
    "# Generate graphs in NetworkX and MillenniumDB format. Returns the in-memory graph and the path to the on-disk graph.\n",
    "def generate_graph(\n",
    "    num_nodes: int,\n",
    "    num_edges: int,\n",
    "    num_node_feat: int,\n",
    ") -> Tuple[Data, str]:\n",
    "    # In-memory graph\n",
    "    graph = from_networkx(\n",
    "        nx.gnm_random_graph(num_nodes, num_edges, seed=2023, directed=True)\n",
    "    )\n",
    "    graph.node_feat = torch.rand(num_nodes, num_node_feat, dtype=torch.float32)\n",
    "    graph.node_label = torch.randint(0, 2, (num_nodes,), dtype=torch.uint8)\n",
    "\n",
    "    # On-disk MillenniumDB graph\n",
    "    dump_path = f\"N{num_nodes}_E{num_edges}_F{num_node_feat}.milldb\"\n",
    "    with open(dump_path, \"w\") as f:\n",
    "        for idx in range(graph.num_nodes):\n",
    "            f.write(\n",
    "                f\"N{idx} :L{graph.node_label[idx]} feat:{graph.node_feat[idx].tolist()}\\n\"\n",
    "            )\n",
    "        for edge in graph.edge_index.T:\n",
    "            f.write(f\"N{edge[0]}->N{edge[1]} :T\\n\")\n",
    "    return graph, dump_path\n",
    "\n",
    "\n",
    "# Create a MillenniumDB database from a file in the current directory and return its path\n",
    "def create_db(dump_path: str) -> str:\n",
    "    dest_path = os.path.basename(dump_path).replace(\".milldb\", \"\")\n",
    "\n",
    "    if os.path.isdir(dest_path):\n",
    "        subprocess.run([\"rm\", \"-rf\", dest_path])\n",
    "\n",
    "    result = subprocess.run(\n",
    "        [CREATE_DB_PATH, dump_path, dest_path],\n",
    "        stdout=subprocess.DEVNULL,\n",
    "        stderr=subprocess.PIPE,\n",
    "    )\n",
    "    if result.returncode != 0:\n",
    "        raise RuntimeError(f\"create_db: {result.stderr.decode('utf-8')}\")\n",
    "    return dest_path\n",
    "\n",
    "\n",
    "# Start a MillenniumDB server for a given database directory\n",
    "def start_server(db_path: str):\n",
    "    process = subprocess.Popen(\n",
    "        [SERVER_PYMDB_PATH, db_path, \"-p\", str(SERVER_PORT)],\n",
    "        stdout=subprocess.DEVNULL,\n",
    "        stderr=subprocess.PIPE,\n",
    "    )\n",
    "\n",
    "    # Wait for server to listen to port\n",
    "    while socket.socket().connect_ex((\"localhost\", SERVER_PORT)) != 0:\n",
    "        time.sleep(0.5)\n",
    "\n",
    "    return process\n",
    "\n",
    "\n",
    "# Kill a MillenniumDB server process and return its exit code\n",
    "def kill_server(process) -> int:\n",
    "    process.kill()\n",
    "    return process.wait()\n"
   ]
  },
  {
   "cell_type": "code",
   "execution_count": 16,
   "metadata": {},
   "outputs": [
    {
     "name": "stdout",
     "output_type": "stream",
     "text": [
      "Running for instance: {'num_nodes': 20, 'num_edges': 20, 'num_node_feat': 10}...\n",
      "  In-memory graph...\n",
      "  MillenniumDB graph...\n"
     ]
    }
   ],
   "source": [
    "def run_performance_tests(instances: List[Dict]):\n",
    "    for instance in instances:\n",
    "        # Generate graphs and create database\n",
    "        graph, dump_path = generate_graph(**instance)\n",
    "        db_path = create_db(dump_path)\n",
    "\n",
    "        print(f\"Running for instance: {instance}...\")\n",
    "\n",
    "        times_mem = list()\n",
    "        times_mdb = list()\n",
    "\n",
    "        # 1. In-memory graph\n",
    "        print(\"  In-memory graph...\")\n",
    "        t0_mem = time.perf_counter_ns()\n",
    "        # TODO: Change this to GraphSAGE training phase\n",
    "        for batch in NeighborLoader(graph, num_neighbors=[5], batch_size=10):\n",
    "            pass\n",
    "        times_mem.append(time.perf_counter_ns() - t0_mem)\n",
    "\n",
    "        # 2. MillenniumDB graph\n",
    "        print(\"  MillenniumDB graph...\")\n",
    "        # Start MillenniumDB server\n",
    "        server_process = start_server(db_path)\n",
    "        # Connect to server\n",
    "        with MDBClient(\"localhost\", SERVER_PORT) as client:\n",
    "            # TODO: Change this to GraphSAGE training phase\n",
    "            t0_mdb = time.perf_counter_ns()\n",
    "            for batch in EvalGraphLoader(client, num_neighbors=[5], batch_size=10):\n",
    "                pass\n",
    "            times_mdb.append(time.perf_counter_ns() - t0_mdb)\n",
    "\n",
    "        # Clean up\n",
    "        kill_server(server_process)\n",
    "        subprocess.run([\"rm\", \"-rf\", db_path])\n",
    "        subprocess.run([\"rm\", dump_path])\n",
    "\n",
    "\n",
    "instances = [{\"num_nodes\": 20, \"num_edges\": 20, \"num_node_feat\": 10}]\n",
    "run_performance_tests(instances)\n"
   ]
  },
  {
   "cell_type": "code",
   "execution_count": 8,
   "metadata": {},
   "outputs": [
    {
     "data": {
      "text/plain": [
       "'graph, mdb_graph_path = generate_graph(100, 200, 10)'"
      ]
     },
     "execution_count": 8,
     "metadata": {},
     "output_type": "execute_result"
    }
   ],
   "source": [
    "\"\"\"graph, mdb_graph_path = generate_graph(100, 200, 10)\"\"\""
   ]
  },
  {
   "cell_type": "code",
   "execution_count": 9,
   "metadata": {},
   "outputs": [
    {
     "data": {
      "text/plain": [
       "'create_db(mdb_graph_path)'"
      ]
     },
     "execution_count": 9,
     "metadata": {},
     "output_type": "execute_result"
    }
   ],
   "source": [
    "\"\"\"create_db(mdb_graph_path)\"\"\""
   ]
  },
  {
   "cell_type": "code",
   "execution_count": 10,
   "metadata": {},
   "outputs": [
    {
     "data": {
      "text/plain": [
       "'server_process = start_server(\"N100_E200_F10\")\\nwith MDBClient(\"localhost\", SERVER_PORT) as client:\\n    pass\\nkill_server(server_process)'"
      ]
     },
     "execution_count": 10,
     "metadata": {},
     "output_type": "execute_result"
    }
   ],
   "source": [
    "\"\"\"server_process = start_server(\"N100_E200_F10\")\n",
    "with MDBClient(\"localhost\", SERVER_PORT) as client:\n",
    "    pass\n",
    "kill_server(server_process)\"\"\""
   ]
  }
 ],
 "metadata": {
  "kernelspec": {
   "display_name": "Python 3",
   "language": "python",
   "name": "python3"
  },
  "language_info": {
   "codemirror_mode": {
    "name": "ipython",
    "version": 3
   },
   "file_extension": ".py",
   "mimetype": "text/x-python",
   "name": "python",
   "nbconvert_exporter": "python",
   "pygments_lexer": "ipython3",
   "version": "3.10.6"
  },
  "orig_nbformat": 4
 },
 "nbformat": 4,
 "nbformat_minor": 2
}
