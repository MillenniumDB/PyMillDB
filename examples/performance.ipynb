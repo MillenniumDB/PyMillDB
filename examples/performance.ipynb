{
 "cells": [
  {
   "attachments": {},
   "cell_type": "markdown",
   "metadata": {},
   "source": [
    "# MillenniumAI performance comparison"
   ]
  },
  {
   "cell_type": "code",
   "execution_count": 1,
   "metadata": {},
   "outputs": [],
   "source": [
    "import sys\n",
    "import networkx as nx\n",
    "import os\n",
    "from torch_geometric.data import Data\n",
    "from torch_geometric.utils import from_networkx\n",
    "from torch_geometric.loader import NeighborLoader\n",
    "import torch\n",
    "import subprocess\n",
    "from typing import Tuple, List, Dict\n",
    "import socket\n",
    "import time\n",
    "\n",
    "# Necessary to import from sibling directory\n",
    "sys.path.append(\"..\")\n",
    "\n",
    "\n",
    "from pymdb import (\n",
    "    MDBClient,\n",
    "    TrainGraphLoader,\n",
    "    EvalGraphLoader,\n",
    "    SamplingGraphLoader,\n",
    "    Sampler,\n",
    ")\n"
   ]
  },
  {
   "cell_type": "code",
   "execution_count": 2,
   "metadata": {},
   "outputs": [],
   "source": [
    "# Path to MillenniumDB executables\n",
    "SERVER_PYMDB_PATH = \"/home/zeus/MDB/MillenniumDB-Dev/build/Release/bin/server_pymdb\"\n",
    "CREATE_DB_PATH = \"/home/zeus/MDB/MillenniumDB-Dev/build/Release/bin/create_db\"\n",
    "\n",
    "# Port to run MillenniumDB server on\n",
    "SERVER_PORT = 8080"
   ]
  },
  {
   "cell_type": "code",
   "execution_count": 3,
   "metadata": {},
   "outputs": [],
   "source": [
    "# Generate graphs in NetworkX and MillenniumDB format. Returns the in-memory graph and the path to the on-disk graph.\n",
    "def generate_graph(\n",
    "    num_nodes: int,\n",
    "    num_edges: int,\n",
    "    num_node_feat: int,\n",
    ") -> Tuple[Data, str]:\n",
    "    # In-memory graph\n",
    "    graph = from_networkx(\n",
    "        nx.gnm_random_graph(num_nodes, num_edges, seed=2023, directed=True)\n",
    "    )\n",
    "    graph.node_feat = torch.rand(num_nodes, num_node_feat, dtype=torch.float32)\n",
    "    graph.node_label = torch.randint(0, 2, (num_nodes,), dtype=torch.uint8)\n",
    "\n",
    "    # On-disk MillenniumDB graph\n",
    "    dump_path = f\"N{num_nodes}_E{num_edges}_F{num_node_feat}.milldb\"\n",
    "    with open(dump_path, \"w\") as f:\n",
    "        for idx in range(graph.num_nodes):\n",
    "            f.write(\n",
    "                f\"N{idx} :L{graph.node_label[idx]} feat:{graph.node_feat[idx].tolist()}\\n\"\n",
    "            )\n",
    "        for edge in graph.edge_index.T:\n",
    "            f.write(f\"N{edge[0]}->N{edge[1]} :T\\n\")\n",
    "    return graph, dump_path\n",
    "\n",
    "\n",
    "# Create a MillenniumDB database from a file in the current directory and return its path\n",
    "def create_db(dump_path: str) -> str:\n",
    "    dest_path = os.path.basename(dump_path).replace(\".milldb\", \"\")\n",
    "\n",
    "    if os.path.isdir(dest_path):\n",
    "        subprocess.run([\"rm\", \"-rf\", dest_path])\n",
    "\n",
    "    result = subprocess.run(\n",
    "        [CREATE_DB_PATH, dump_path, dest_path],\n",
    "        stdout=subprocess.DEVNULL,\n",
    "        stderr=subprocess.PIPE,\n",
    "    )\n",
    "    if result.returncode != 0:\n",
    "        raise RuntimeError(f\"create_db: {result.stderr.decode('utf-8')}\")\n",
    "    return dest_path\n",
    "\n",
    "\n",
    "# Start a MillenniumDB server for a given database directory\n",
    "def start_server(db_path: str):\n",
    "    process = subprocess.Popen(\n",
    "        [SERVER_PYMDB_PATH, db_path, \"-p\", str(SERVER_PORT)],\n",
    "        stdout=subprocess.DEVNULL,\n",
    "        stderr=subprocess.PIPE,\n",
    "    )\n",
    "\n",
    "    # Wait for server to listen to port\n",
    "    while socket.socket().connect_ex((\"localhost\", SERVER_PORT)) != 0:\n",
    "        time.sleep(0.5)\n",
    "\n",
    "    return process\n",
    "\n",
    "\n",
    "# Kill a MillenniumDB server process and return its exit code\n",
    "def kill_server(process) -> int:\n",
    "    process.kill()\n",
    "    return process.wait()\n"
   ]
  },
  {
   "cell_type": "code",
   "execution_count": 10,
   "metadata": {},
   "outputs": [
    {
     "name": "stdout",
     "output_type": "stream",
     "text": [
      "In-memory graph\n",
      "Data(edge_index=[2, 9], num_nodes=14, node_feat=[14, 10], node_label=[14], input_id=[10], batch_size=10)\n",
      "Data(edge_index=[2, 11], num_nodes=13, node_feat=[13, 10], node_label=[13], input_id=[10], batch_size=10)\n",
      "On-disk graph\n",
      "Graph(num_seeds=10, node_ids=[13], edge_ids=[11], edge_index=[2, 11])\n",
      "2327850833955258368\n",
      "2327851933466886144\n",
      "2327852139625316352\n",
      "2327852143920283648\n",
      "2327852148215250944\n",
      "2327852152510218240\n",
      "2327852156805185536\n",
      "2327852161100152832\n",
      "2327852165395120128\n",
      "2327852169690087424\n",
      "2327857431025025024\n",
      "2327854132490141696\n",
      "2327853032978513920\n",
      "Graph(num_seeds=10, node_ids=[12], edge_ids=[9], edge_index=[2, 9])\n",
      "2327852173985054720\n",
      "2327852178280022016\n",
      "2327853032978513920\n",
      "2327854132490141696\n",
      "2327855232001769472\n",
      "2327856331513397248\n",
      "2327857431025025024\n",
      "2327858530536652800\n",
      "2327859630048280576\n",
      "2327860729559908352\n",
      "2327852148215250944\n",
      "2327852161100152832\n",
      "Graph(num_seeds=1, node_ids=[1], edge_ids=[0], edge_index=[2, 0])\n",
      "2329486907257389056\n"
     ]
    }
   ],
   "source": [
    "def main(instances: List[Dict]):\n",
    "    for instance in instances:\n",
    "        # Generate graphs and create database\n",
    "        graph, dump_path = generate_graph(**instance)\n",
    "        db_path = create_db(dump_path)\n",
    "        \n",
    "        # 1. In-memory graph\n",
    "        print(\"In-memory graph\")\n",
    "        for batch in NeighborLoader(graph, num_neighbors=[5], batch_size=10):\n",
    "            print(batch)\n",
    "        \n",
    "        # 2. MillenniumDB graph\n",
    "        print(\"On-disk graph\")\n",
    "        # Start MillenniumDB server\n",
    "        server_process = start_server(db_path)\n",
    "        # Connect to server\n",
    "        with MDBClient(\"localhost\", SERVER_PORT) as client:\n",
    "            for batch in EvalGraphLoader(client, num_neighbors=[5], batch_size=10):\n",
    "                print(batch)\n",
    "                # TODO: Remove Type stored as NamedNodes\n",
    "        # Clean up\n",
    "        kill_server(server_process)\n",
    "        subprocess.run([\"rm\", \"-rf\", db_path])\n",
    "        # subprocess.run([\"rm\", dump_path])\n",
    "\n",
    "tests = [{\"num_nodes\": 20, \"num_edges\": 20, \"num_node_feat\": 10}]\n",
    "main(tests)\n"
   ]
  },
  {
   "cell_type": "code",
   "execution_count": 5,
   "metadata": {},
   "outputs": [
    {
     "data": {
      "text/plain": [
       "'graph, mdb_graph_path = generate_graph(100, 200, 10)'"
      ]
     },
     "execution_count": 5,
     "metadata": {},
     "output_type": "execute_result"
    }
   ],
   "source": [
    "\"\"\"graph, mdb_graph_path = generate_graph(100, 200, 10)\"\"\""
   ]
  },
  {
   "cell_type": "code",
   "execution_count": 6,
   "metadata": {},
   "outputs": [
    {
     "data": {
      "text/plain": [
       "'create_db(mdb_graph_path)'"
      ]
     },
     "execution_count": 6,
     "metadata": {},
     "output_type": "execute_result"
    }
   ],
   "source": [
    "\"\"\"create_db(mdb_graph_path)\"\"\""
   ]
  },
  {
   "cell_type": "code",
   "execution_count": 7,
   "metadata": {},
   "outputs": [
    {
     "data": {
      "text/plain": [
       "'server_process = start_server(\"N100_E200_F10\")\\nwith MDBClient(\"localhost\", SERVER_PORT) as client:\\n    pass\\nkill_server(server_process)'"
      ]
     },
     "execution_count": 7,
     "metadata": {},
     "output_type": "execute_result"
    }
   ],
   "source": [
    "\"\"\"server_process = start_server(\"N100_E200_F10\")\n",
    "with MDBClient(\"localhost\", SERVER_PORT) as client:\n",
    "    pass\n",
    "kill_server(server_process)\"\"\""
   ]
  }
 ],
 "metadata": {
  "kernelspec": {
   "display_name": "Python 3",
   "language": "python",
   "name": "python3"
  },
  "language_info": {
   "codemirror_mode": {
    "name": "ipython",
    "version": 3
   },
   "file_extension": ".py",
   "mimetype": "text/x-python",
   "name": "python",
   "nbconvert_exporter": "python",
   "pygments_lexer": "ipython3",
   "version": "3.10.6"
  },
  "orig_nbformat": 4
 },
 "nbformat": 4,
 "nbformat_minor": 2
}
