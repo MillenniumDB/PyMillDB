{
 "cells": [
  {
   "cell_type": "code",
   "execution_count": 159,
   "metadata": {},
   "outputs": [],
   "source": [
    "import sys\n",
    "import networkx as nx\n",
    "import os\n",
    "from torch_geometric.data import Data\n",
    "from torch_geometric.utils import from_networkx\n",
    "from torch_geometric.loader import NeighborLoader\n",
    "import torch\n",
    "import subprocess\n",
    "from typing import Tuple\n",
    "\n",
    "# Necessary to import from sibling directory\n",
    "sys.path.append(\"..\")\n",
    "\n",
    "\n",
    "from pymdb import (\n",
    "    MDBClient,\n",
    "    TrainGraphLoader,\n",
    "    EvalGraphLoader,\n",
    "    SamplingGraphLoader,\n",
    "    Sampler,\n",
    ")\n"
   ]
  },
  {
   "cell_type": "code",
   "execution_count": 209,
   "metadata": {},
   "outputs": [],
   "source": [
    "## Path to MillenniumDB executables\n",
    "PYMDB_SERVER_PATH = \"/home/zeus/MDB/MillenniumDB-Dev/build/Release/bin/pymdb_server\"\n",
    "CREATE_DB_PATH = \"/home/zeus/MDB/MillenniumDB-Dev/build/Release/bin/create_db\""
   ]
  },
  {
   "cell_type": "code",
   "execution_count": 244,
   "metadata": {},
   "outputs": [],
   "source": [
    "## Generate graphs in NetworkX and MillenniumDB format. Returns the in-memory graph and the path to the on-disk graph.\n",
    "def generate_graph(\n",
    "    num_nodes: int,\n",
    "    num_edges: int,\n",
    "    num_node_feat: int,\n",
    ") -> Tuple[Data, str]:\n",
    "    # In-memory graph\n",
    "    graph = from_networkx(\n",
    "        nx.gnm_random_graph(num_nodes, num_edges, seed=2023, directed=True)\n",
    "    )\n",
    "    graph.node_feat = torch.rand(num_nodes, num_node_feat, dtype=torch.float32)\n",
    "    graph.node_label = torch.randint(0, 2, (num_nodes,), dtype=torch.uint8)\n",
    "\n",
    "    # On-disk MillenniumDB graph\n",
    "    graph_fname = f\"N{num_nodes}_E{num_edges}_F{num_node_feat}.milldb\"\n",
    "    with open(graph_fname, \"w\") as f:\n",
    "        for idx in range(graph.num_nodes):\n",
    "            f.write(\n",
    "                f\"N{idx} :L{graph.node_label[idx]} feat:{graph.node_feat[idx].tolist()}\\n\"\n",
    "            )\n",
    "        for edge in graph.edge_index.T:\n",
    "            f.write(f\"N{edge[0]}->N{edge[1]} :T\\n\")\n",
    "    return graph, graph_fname\n",
    "\n",
    "\n",
    "## Create a MillenniumDB database from a file\n",
    "def create_mdb(dump_path: str) -> str:\n",
    "    dest_path = os.path.basename(dump_path).replace(\".milldb\", \"\")\n",
    "    result = subprocess.run(\n",
    "        [CREATE_DB_PATH, dump_path, dest_path],\n",
    "        stdout=subprocess.DEVNULL,\n",
    "        stderr=subprocess.PIPE,\n",
    "    )\n",
    "    if result.returncode != 0:\n",
    "        raise RuntimeError(f\"create_db: {result.stderr.decode('utf-8')}\")\n",
    "    return dest_path\n"
   ]
  },
  {
   "cell_type": "code",
   "execution_count": 211,
   "metadata": {},
   "outputs": [],
   "source": [
    "graph, mdb_graph_path = generate_graph(100, 200, 10)"
   ]
  },
  {
   "cell_type": "code",
   "execution_count": 245,
   "metadata": {},
   "outputs": [
    {
     "ename": "RuntimeError",
     "evalue": "create_db: Database folder already exists and it's not empty\n\n",
     "output_type": "error",
     "traceback": [
      "\u001b[0;31m---------------------------------------------------------------------------\u001b[0m",
      "\u001b[0;31mRuntimeError\u001b[0m                              Traceback (most recent call last)",
      "Cell \u001b[0;32mIn[245], line 1\u001b[0m\n\u001b[0;32m----> 1\u001b[0m create_mdb(mdb_graph_path)\n",
      "Cell \u001b[0;32mIn[244], line 35\u001b[0m, in \u001b[0;36mcreate_mdb\u001b[0;34m(dump_path)\u001b[0m\n\u001b[1;32m     29\u001b[0m result \u001b[39m=\u001b[39m subprocess\u001b[39m.\u001b[39mrun(\n\u001b[1;32m     30\u001b[0m     [CREATE_DB_PATH, dump_path, dest_path],\n\u001b[1;32m     31\u001b[0m     stdout\u001b[39m=\u001b[39msubprocess\u001b[39m.\u001b[39mDEVNULL,\n\u001b[1;32m     32\u001b[0m     stderr\u001b[39m=\u001b[39msubprocess\u001b[39m.\u001b[39mPIPE,\n\u001b[1;32m     33\u001b[0m )\n\u001b[1;32m     34\u001b[0m \u001b[39mif\u001b[39;00m result\u001b[39m.\u001b[39mreturncode \u001b[39m!=\u001b[39m \u001b[39m0\u001b[39m:\n\u001b[0;32m---> 35\u001b[0m     \u001b[39mraise\u001b[39;00m \u001b[39mRuntimeError\u001b[39;00m(\u001b[39mf\u001b[39m\u001b[39m\"\u001b[39m\u001b[39mcreate_db: \u001b[39m\u001b[39m{\u001b[39;00mresult\u001b[39m.\u001b[39mstderr\u001b[39m.\u001b[39mdecode(\u001b[39m'\u001b[39m\u001b[39mutf-8\u001b[39m\u001b[39m'\u001b[39m)\u001b[39m}\u001b[39;00m\u001b[39m\"\u001b[39m)\n\u001b[1;32m     36\u001b[0m \u001b[39mreturn\u001b[39;00m dest_path\n",
      "\u001b[0;31mRuntimeError\u001b[0m: create_db: Database folder already exists and it's not empty\n\n"
     ]
    }
   ],
   "source": [
    "create_mdb(mdb_graph_path)"
   ]
  },
  {
   "cell_type": "code",
   "execution_count": null,
   "metadata": {},
   "outputs": [],
   "source": []
  }
 ],
 "metadata": {
  "kernelspec": {
   "display_name": "Python 3",
   "language": "python",
   "name": "python3"
  },
  "language_info": {
   "codemirror_mode": {
    "name": "ipython",
    "version": 3
   },
   "file_extension": ".py",
   "mimetype": "text/x-python",
   "name": "python",
   "nbconvert_exporter": "python",
   "pygments_lexer": "ipython3",
   "version": "3.10.6"
  },
  "orig_nbformat": 4
 },
 "nbformat": 4,
 "nbformat_minor": 2
}
