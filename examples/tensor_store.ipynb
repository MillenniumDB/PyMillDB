{
 "cells": [
  {
   "cell_type": "code",
   "execution_count": 5,
   "metadata": {},
   "outputs": [],
   "source": [
    "import sys\n",
    "\n",
    "sys.path.append(\"..\")\n",
    "\n",
    "\n",
    "from pymilldb import (\n",
    "    MDBClient,\n",
    "    TensorStore,\n",
    "    Sampler,\n",
    ")\n",
    "\n",
    "import torch"
   ]
  },
  {
   "cell_type": "code",
   "execution_count": 14,
   "metadata": {},
   "outputs": [],
   "source": [
    "with MDBClient() as client:\n",
    "    if TensorStore.exists(client, \"test\"):\n",
    "        TensorStore.remove(client, \"test\")\n",
    "    TensorStore.create(client, \"test\", 10)\n",
    "\n",
    "    store = TensorStore(client, \"test\")\n",
    "    sampler = Sampler(client)\n",
    "\n",
    "    graph = sampler.subgraph(10, [5, 5])\n",
    "    \n",
    "    gen = torch.rand(len(graph.node_ids), 10, dtype=torch.float32)\n",
    "    store[graph.node_ids] = gen\n",
    "\n",
    "    assert (gen == store[graph.node_ids]).all(), \"stored tensors should be equal to generated tensors\"\n"
   ]
  }
 ],
 "metadata": {
  "kernelspec": {
   "display_name": "Python 3",
   "language": "python",
   "name": "python3"
  },
  "language_info": {
   "codemirror_mode": {
    "name": "ipython",
    "version": 3
   },
   "file_extension": ".py",
   "mimetype": "text/x-python",
   "name": "python",
   "nbconvert_exporter": "python",
   "pygments_lexer": "ipython3",
   "version": "3.10.6"
  },
  "orig_nbformat": 4
 },
 "nbformat": 4,
 "nbformat_minor": 2
}
