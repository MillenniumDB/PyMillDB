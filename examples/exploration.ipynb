{
 "cells": [
  {
   "cell_type": "code",
   "execution_count": 1,
   "metadata": {},
   "outputs": [],
   "source": [
    "from pymilldb import GraphExplorer, MDBClient, Sampler"
   ]
  },
  {
   "cell_type": "code",
   "execution_count": 16,
   "metadata": {},
   "outputs": [
    {
     "name": "stdout",
     "output_type": "stream",
     "text": [
      "I will use the node id: \"2328697664926253056\"\n",
      "Node data:\n",
      "ExplorerNode(node_id=2328697664926253056, name=Q2036, num_labels=3, num_properties=0)\n",
      "Node labels:\n",
      "['tooth', 'defrayals', 'Calcutta']\n",
      "Outgoing edges:\n",
      "ExplorerEdge(edge_id=9223372036855111399, source=2328697664926253056, target=2328696578282631168, edge_type=rely, num_properties=0)\n",
      "ExplorerEdge(edge_id=9223372036854825075, source=2328697664926253056, target=2328697699252582400, edge_type=chaffs, num_properties=0)\n",
      "ExplorerEdge(edge_id=9223372036854943878, source=2328697664926253056, target=2328698803092338944, edge_type=phantom, num_properties=0)\n",
      "ExplorerEdge(edge_id=9223372036855088288, source=2328697664926253056, target=2328698803109181696, edge_type=interjection, num_properties=0)\n",
      "ExplorerEdge(edge_id=9223372036855025513, source=2328697664926253056, target=2328703171074142976, edge_type=worn, num_properties=0)\n",
      "ExplorerEdge(edge_id=9223372036854823607, source=2328697664926253056, target=2328704296322283264, edge_type=tower, num_properties=0)\n",
      "ExplorerEdge(edge_id=9223372036854972215, source=2328697664926253056, target=2328705391555328000, edge_type=immigrates, num_properties=0)\n",
      "ExplorerEdge(edge_id=9223372036855225769, source=2328697664926253056, target=2328705400212750336, edge_type=storied, num_properties=0)\n",
      "Incoming edges:\n",
      "ExplorerEdge(edge_id=9223372036855118176, source=2328702080252915968, target=2328697664926253056, edge_type=phantom, num_properties=0)\n",
      "ExplorerEdge(edge_id=9223372036854784376, source=2328698764521386240, target=2328697664926253056, edge_type=shlep, num_properties=0)\n",
      "ExplorerEdge(edge_id=9223372036854851791, source=2328697694990970880, target=2328697664926253056, edge_type=raccoons, num_properties=0)\n",
      "ExplorerEdge(edge_id=9223372036855233430, source=2328698764387169792, target=2328697664926253056, edge_type=judgment, num_properties=0)\n",
      "ExplorerEdge(edge_id=9223372036854885232, source=2328702075824322304, target=2328697664926253056, edge_type=judgment, num_properties=0)\n",
      "ExplorerEdge(edge_id=9223372036854900013, source=2328705400128811520, target=2328697664926253056, edge_type=lopsided, num_properties=0)\n"
     ]
    }
   ],
   "source": [
    "with MDBClient() as client:\n",
    "    s = Sampler(client)\n",
    "    ge = GraphExplorer(client)\n",
    "    \n",
    "    # Make a sample\n",
    "    g = s.subgraph(10, [5, 5])\n",
    "    # Extract an arbitrary node for exploration\n",
    "    node_id = g.node_ids[0]\n",
    "    print(f\"I will use the node id: \\\"{node_id}\\\"\")\n",
    "\n",
    "    node = ge.get_node(node_id)\n",
    "    print(\"Node data:\")\n",
    "    print(node)\n",
    "    print(\"Node labels:\")\n",
    "    print(node.labels)\n",
    "\n",
    "    edges_out = ge.get_edges(node_id, \"outgoing\")\n",
    "    print(\"Outgoing edges:\")\n",
    "    for edge in edges_out:\n",
    "        print(edge)\n",
    "    \n",
    "    edges_in = ge.get_edges(node_id, \"incoming\")\n",
    "    print(\"Incoming edges:\")\n",
    "    for edge in edges_in:\n",
    "        print(edge)\n",
    "\n"
   ]
  }
 ],
 "metadata": {
  "kernelspec": {
   "display_name": "Python 3",
   "language": "python",
   "name": "python3"
  },
  "language_info": {
   "codemirror_mode": {
    "name": "ipython",
    "version": 3
   },
   "file_extension": ".py",
   "mimetype": "text/x-python",
   "name": "python",
   "nbconvert_exporter": "python",
   "pygments_lexer": "ipython3",
   "version": "3.10.6"
  },
  "orig_nbformat": 4
 },
 "nbformat": 4,
 "nbformat_minor": 2
}
