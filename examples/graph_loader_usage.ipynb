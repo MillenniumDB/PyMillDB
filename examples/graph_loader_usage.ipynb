{
 "cells": [
  {
   "attachments": {},
   "cell_type": "markdown",
   "metadata": {},
   "source": [
    "# GraphLoader demo"
   ]
  },
  {
   "cell_type": "code",
   "execution_count": 1,
   "metadata": {},
   "outputs": [],
   "source": [
    "import sys\n",
    "\n",
    "# Necessary to import from sibling directory\n",
    "sys.path.append(\"..\")\n",
    "\n",
    "from typing import TYPE_CHECKING\n",
    "\n",
    "from pymdb import (\n",
    "    MDBClient,\n",
    "    EvalGraphLoader,\n",
    "    SamplingGraphLoader,\n",
    "    Sampler,\n",
    ")\n"
   ]
  },
  {
   "attachments": {},
   "cell_type": "markdown",
   "metadata": {},
   "source": [
    "## SamplingGraphLoader (with seed node resampling)"
   ]
  },
  {
   "cell_type": "code",
   "execution_count": 3,
   "metadata": {},
   "outputs": [
    {
     "name": "stdout",
     "output_type": "stream",
     "text": [
      "First sample\n",
      "Graph(num_seeds=16, node_ids=[84], edge_ids=[94], edge_index=[2, 94])\n",
      "Graph(num_seeds=16, node_ids=[96], edge_ids=[111], edge_index=[2, 111])\n",
      "Graph(num_seeds=16, node_ids=[89], edge_ids=[102], edge_index=[2, 102])\n",
      "Graph(num_seeds=16, node_ids=[92], edge_ids=[109], edge_index=[2, 109])\n",
      "Second sample\n",
      "Graph(num_seeds=16, node_ids=[94], edge_ids=[111], edge_index=[2, 111])\n",
      "Graph(num_seeds=16, node_ids=[106], edge_ids=[132], edge_index=[2, 132])\n",
      "Graph(num_seeds=16, node_ids=[111], edge_ids=[137], edge_index=[2, 137])\n",
      "Graph(num_seeds=16, node_ids=[86], edge_ids=[100], edge_index=[2, 100])\n"
     ]
    }
   ],
   "source": [
    "with MDBClient() as client:\n",
    "    tgl = SamplingGraphLoader(\n",
    "        client=client,\n",
    "        batch_size=16,\n",
    "        num_neighbors=[5, 5],\n",
    "        node_feature_prop=\"\",\n",
    "        edge_feature_prop=\"\",\n",
    "        num_seeds=64\n",
    "    )\n",
    "\n",
    "    print(\"First sample\")\n",
    "    for graph in tgl:\n",
    "        print(graph)\n",
    "    print(\"Second sample\")\n",
    "    for graph in tgl:\n",
    "        print(graph)"
   ]
  },
  {
   "attachments": {},
   "cell_type": "markdown",
   "metadata": {},
   "source": [
    "## EvalGraphLoader (for sampling the entire graph)"
   ]
  },
  {
   "cell_type": "code",
   "execution_count": 4,
   "metadata": {},
   "outputs": [
    {
     "name": "stdout",
     "output_type": "stream",
     "text": [
      "First 10 batches from the entire graph\n",
      "Graph(num_seeds=16, node_ids=[55], edge_ids=[55], edge_index=[2, 55])\n",
      "Graph(num_seeds=16, node_ids=[58], edge_ids=[58], edge_index=[2, 58])\n",
      "Graph(num_seeds=16, node_ids=[53], edge_ids=[53], edge_index=[2, 53])\n",
      "Graph(num_seeds=16, node_ids=[53], edge_ids=[53], edge_index=[2, 53])\n",
      "Graph(num_seeds=16, node_ids=[56], edge_ids=[56], edge_index=[2, 56])\n",
      "Graph(num_seeds=16, node_ids=[52], edge_ids=[52], edge_index=[2, 52])\n",
      "Graph(num_seeds=16, node_ids=[56], edge_ids=[56], edge_index=[2, 56])\n",
      "Graph(num_seeds=16, node_ids=[51], edge_ids=[51], edge_index=[2, 51])\n",
      "Graph(num_seeds=16, node_ids=[53], edge_ids=[53], edge_index=[2, 53])\n",
      "Graph(num_seeds=16, node_ids=[50], edge_ids=[50], edge_index=[2, 50])\n"
     ]
    }
   ],
   "source": [
    "with MDBClient() as client:\n",
    "    tgl = EvalGraphLoader(\n",
    "        client=client,\n",
    "        batch_size=16,\n",
    "        num_neighbors=[5, 5],\n",
    "        node_feature_prop=\"\",\n",
    "        edge_feature_prop=\"\",\n",
    "    )\n",
    "\n",
    "    k = 10\n",
    "    print(f\"First {k} batches from the entire graph\")\n",
    "    for i, graph in enumerate(tgl):\n",
    "        if i == k:\n",
    "            break\n",
    "        print(graph)\n",
    "    "
   ]
  }
 ],
 "metadata": {
  "kernelspec": {
   "display_name": "Python 3",
   "language": "python",
   "name": "python3"
  },
  "language_info": {
   "codemirror_mode": {
    "name": "ipython",
    "version": 3
   },
   "file_extension": ".py",
   "mimetype": "text/x-python",
   "name": "python",
   "nbconvert_exporter": "python",
   "pygments_lexer": "ipython3",
   "version": "3.10.6"
  },
  "orig_nbformat": 4,
  "vscode": {
   "interpreter": {
    "hash": "31f2aee4e71d21fbe5cf8b01ff0e069b9275f58929596ceb00d14d90e3e16cd6"
   }
  }
 },
 "nbformat": 4,
 "nbformat_minor": 2
}
